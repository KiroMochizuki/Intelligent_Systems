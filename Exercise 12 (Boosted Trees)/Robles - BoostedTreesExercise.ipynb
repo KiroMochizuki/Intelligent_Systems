{
 "cells": [
  {
   "cell_type": "markdown",
   "id": "79757574-c6a2-4445-a47a-14893f3b326e",
   "metadata": {},
   "source": [
    "Using the following dataset : http://archive.ics.uci.edu/dataset/19/car+evaluation"
   ]
  },
  {
   "cell_type": "code",
   "execution_count": 1,
   "id": "17131f51-e7e2-4a33-92ed-c2435e406c81",
   "metadata": {},
   "outputs": [
    {
     "data": {
      "text/html": [
       "<div>\n",
       "<style scoped>\n",
       "    .dataframe tbody tr th:only-of-type {\n",
       "        vertical-align: middle;\n",
       "    }\n",
       "\n",
       "    .dataframe tbody tr th {\n",
       "        vertical-align: top;\n",
       "    }\n",
       "\n",
       "    .dataframe thead th {\n",
       "        text-align: right;\n",
       "    }\n",
       "</style>\n",
       "<table border=\"1\" class=\"dataframe\">\n",
       "  <thead>\n",
       "    <tr style=\"text-align: right;\">\n",
       "      <th></th>\n",
       "      <th>buying</th>\n",
       "      <th>maint</th>\n",
       "      <th>doors</th>\n",
       "      <th>persons</th>\n",
       "      <th>lug_boot</th>\n",
       "      <th>safety</th>\n",
       "      <th>class</th>\n",
       "    </tr>\n",
       "  </thead>\n",
       "  <tbody>\n",
       "    <tr>\n",
       "      <th>0</th>\n",
       "      <td>vhigh</td>\n",
       "      <td>vhigh</td>\n",
       "      <td>2</td>\n",
       "      <td>2</td>\n",
       "      <td>small</td>\n",
       "      <td>low</td>\n",
       "      <td>unacc</td>\n",
       "    </tr>\n",
       "    <tr>\n",
       "      <th>1</th>\n",
       "      <td>vhigh</td>\n",
       "      <td>vhigh</td>\n",
       "      <td>2</td>\n",
       "      <td>2</td>\n",
       "      <td>small</td>\n",
       "      <td>med</td>\n",
       "      <td>unacc</td>\n",
       "    </tr>\n",
       "    <tr>\n",
       "      <th>2</th>\n",
       "      <td>vhigh</td>\n",
       "      <td>vhigh</td>\n",
       "      <td>2</td>\n",
       "      <td>2</td>\n",
       "      <td>small</td>\n",
       "      <td>high</td>\n",
       "      <td>unacc</td>\n",
       "    </tr>\n",
       "    <tr>\n",
       "      <th>3</th>\n",
       "      <td>vhigh</td>\n",
       "      <td>vhigh</td>\n",
       "      <td>2</td>\n",
       "      <td>2</td>\n",
       "      <td>med</td>\n",
       "      <td>low</td>\n",
       "      <td>unacc</td>\n",
       "    </tr>\n",
       "    <tr>\n",
       "      <th>4</th>\n",
       "      <td>vhigh</td>\n",
       "      <td>vhigh</td>\n",
       "      <td>2</td>\n",
       "      <td>2</td>\n",
       "      <td>med</td>\n",
       "      <td>med</td>\n",
       "      <td>unacc</td>\n",
       "    </tr>\n",
       "  </tbody>\n",
       "</table>\n",
       "</div>"
      ],
      "text/plain": [
       "  buying  maint doors persons lug_boot safety  class\n",
       "0  vhigh  vhigh     2       2    small    low  unacc\n",
       "1  vhigh  vhigh     2       2    small    med  unacc\n",
       "2  vhigh  vhigh     2       2    small   high  unacc\n",
       "3  vhigh  vhigh     2       2      med    low  unacc\n",
       "4  vhigh  vhigh     2       2      med    med  unacc"
      ]
     },
     "execution_count": 1,
     "metadata": {},
     "output_type": "execute_result"
    }
   ],
   "source": [
    "# Import required libraries\n",
    "\n",
    "import pandas as pd\n",
    "from sklearn.model_selection import train_test_split\n",
    "from catboost import CatBoostClassifier, Pool\n",
    "from xgboost import XGBClassifier\n",
    "from sklearn.metrics import accuracy_score, confusion_matrix, roc_curve, auc\n",
    "from sklearn.preprocessing import label_binarize\n",
    "from sklearn.metrics import roc_auc_score\n",
    "from sklearn.multiclass import OneVsRestClassifier\n",
    "from sklearn.metrics import ConfusionMatrixDisplay, classification_report\n",
    "import matplotlib.pyplot as plt\n",
    "import seaborn as sns\n",
    "import numpy as np\n",
    "  \n",
    "url = \"http://archive.ics.uci.edu/ml/machine-learning-databases/car/car.data\"\n",
    "columns = ['buying', 'maint', 'doors', 'persons', 'lug_boot', 'safety', 'class']\n",
    "data = pd.read_csv(url, names=columns)\n",
    "data.head()"
   ]
  },
  {
   "cell_type": "code",
   "execution_count": 2,
   "id": "897b98e3-383b-4106-9a5c-65656b8167af",
   "metadata": {},
   "outputs": [],
   "source": [
    "encoded = pd.get_dummies(data, columns=['buying', 'maint', 'doors', 'persons', 'lug_boot', 'safety'])\n",
    "\n",
    "X = encoded.drop(\"class\", axis=1)\n",
    "y = encoded[\"class\"]"
   ]
  },
  {
   "cell_type": "code",
   "execution_count": 3,
   "id": "d9d369d4-a1c1-43c2-8785-903fa9ff3152",
   "metadata": {},
   "outputs": [],
   "source": [
    "label_mapping = {label: idx for idx, label in enumerate(y.unique())}\n",
    "y = y.map(label_mapping)"
   ]
  },
  {
   "cell_type": "code",
   "execution_count": 4,
   "id": "23a04b6f-9430-40d3-85c5-74b487bf3242",
   "metadata": {},
   "outputs": [],
   "source": [
    "X_train, X_test, y_train, y_test = train_test_split(X, y, test_size=0.2, random_state=42)"
   ]
  },
  {
   "cell_type": "markdown",
   "id": "273e3b6e-8442-48de-b369-2da85d9f4a4c",
   "metadata": {},
   "source": [
    "1. Apply XGBoost classifier on the dataset using the following parameter : Objective = Multi Softmax , print out the classification report"
   ]
  },
  {
   "cell_type": "code",
   "execution_count": 5,
   "id": "bec8d679-64f1-487b-891f-46a83a33db6e",
   "metadata": {},
   "outputs": [],
   "source": [
    "# XGBoost Classifier\n",
    "\n",
    "xgboost_model = XGBClassifier(objective='multi:softmax')\n",
    "xgboost_model.fit(X_train, y_train)\n",
    "\n",
    "xgboost_pred = xgboost_model.predict(X_test)"
   ]
  },
  {
   "cell_type": "code",
   "execution_count": 6,
   "id": "62ed7e86-ced2-4446-9674-8e7516b7a808",
   "metadata": {},
   "outputs": [
    {
     "data": {
      "image/png": "[encoded data removed]",
      "text/plain": [
       "<Figure size 640x480 with 2 Axes>"
      ]
     },
     "metadata": {},
     "output_type": "display_data"
    },
    {
     "name": "stdout",
     "output_type": "stream",
     "text": [
      "Classification Report (XGBoost):\n",
      "              precision    recall  f1-score   support\n",
      "\n",
      "           0       1.00      1.00      1.00       235\n",
      "           1       1.00      0.92      0.96        83\n",
      "           2       1.00      1.00      1.00        17\n",
      "           3       0.61      1.00      0.76        11\n",
      "\n",
      "    accuracy                           0.98       346\n",
      "   macro avg       0.90      0.98      0.93       346\n",
      "weighted avg       0.99      0.98      0.98       346\n",
      "\n"
     ]
    }
   ],
   "source": [
    "# XGBoost Performance Metrics\n",
    "xgb_cm = confusion_matrix(y_test, xgboost_pred)\n",
    "fp = confusion_matrix(y_test, xgboost_pred).ravel()\n",
    "\n",
    "disp = ConfusionMatrixDisplay(confusion_matrix=xgb_cm, display_labels=label_mapping.keys())\n",
    "disp.plot(cmap=\"Blues\", values_format=\"d\")\n",
    "plt.title('XGBoost Confusion Matrix')\n",
    "plt.show()\n",
    "\n",
    "\n",
    "classification_xgboost = classification_report(y_test, xgboost_pred)\n",
    "print(\"Classification Report (XGBoost):\")\n",
    "print(classification_xgboost)"
   ]
  },
  {
   "cell_type": "markdown",
   "id": "10b45407-0fec-491a-ae80-bc44e2e68326",
   "metadata": {},
   "source": [
    "2. Apply Catboost classifier on the dataset using the following parameter : Iterations = 150 , depth = 5, learning_rate = 0.3 , loss_function='MultiClass' "
   ]
  },
  {
   "cell_type": "markdown",
   "id": "253ada43-f551-4f08-914b-01499d2e4daf",
   "metadata": {},
   "source": [
    "2. Also set the verbose for the Catboost model fit to 15"
   ]
  },
  {
   "cell_type": "code",
   "execution_count": 7,
   "id": "afad7a44-fbcc-4f09-8a34-2aa505768d12",
   "metadata": {},
   "outputs": [
    {
     "name": "stdout",
     "output_type": "stream",
     "text": [
      "0:\tlearn: 0.9474975\ttest: 0.9478685\tbest: 0.9478685 (0)\ttotal: 137ms\tremaining: 20.5s\n",
      "15:\tlearn: 0.2026547\ttest: 0.2308229\tbest: 0.2308229 (15)\ttotal: 163ms\tremaining: 1.36s\n",
      "30:\tlearn: 0.1136741\ttest: 0.1544706\tbest: 0.1544706 (30)\ttotal: 187ms\tremaining: 718ms\n",
      "45:\tlearn: 0.0760837\ttest: 0.1270028\tbest: 0.1270028 (45)\ttotal: 212ms\tremaining: 479ms\n",
      "60:\tlearn: 0.0548474\ttest: 0.1110223\tbest: 0.1110223 (60)\ttotal: 237ms\tremaining: 345ms\n",
      "75:\tlearn: 0.0425822\ttest: 0.1008521\tbest: 0.1008521 (75)\ttotal: 261ms\tremaining: 254ms\n",
      "90:\tlearn: 0.0346446\ttest: 0.0923433\tbest: 0.0923433 (90)\ttotal: 287ms\tremaining: 186ms\n",
      "105:\tlearn: 0.0287692\ttest: 0.0891988\tbest: 0.0887082 (104)\ttotal: 311ms\tremaining: 129ms\n",
      "120:\tlearn: 0.0247338\ttest: 0.0888418\tbest: 0.0883857 (118)\ttotal: 336ms\tremaining: 80.6ms\n",
      "135:\tlearn: 0.0219709\ttest: 0.0882180\tbest: 0.0882180 (135)\ttotal: 362ms\tremaining: 37.3ms\n",
      "149:\tlearn: 0.0195640\ttest: 0.0864392\tbest: 0.0864392 (149)\ttotal: 385ms\tremaining: 0us\n",
      "\n",
      "bestTest = 0.08643915502\n",
      "bestIteration = 149\n",
      "\n"
     ]
    }
   ],
   "source": [
    "# CatBoost Classifier\n",
    "\n",
    "train_pool = Pool(X_train, y_train)\n",
    "test_pool = Pool(X_test, y_test)\n",
    "\n",
    "catboost_model = CatBoostClassifier(iterations=150, depth=5, learning_rate=0.3, loss_function='MultiClass')\n",
    "catboost_model.fit(train_pool, eval_set=test_pool, verbose=15)\n",
    "\n",
    "catboost_pred = catboost_model.predict(X_test)"
   ]
  },
  {
   "cell_type": "code",
   "execution_count": 8,
   "id": "f2582862-4fd5-43c8-8d52-af52d3258dd2",
   "metadata": {},
   "outputs": [
    {
     "data": {
      "image/png": "[encoded data removed]",
      "text/plain": [
       "<Figure size 640x480 with 2 Axes>"
      ]
     },
     "metadata": {},
     "output_type": "display_data"
    },
    {
     "name": "stdout",
     "output_type": "stream",
     "text": [
      "Classification Report (CatBoost):\n",
      "              precision    recall  f1-score   support\n",
      "\n",
      "           0       1.00      1.00      1.00       235\n",
      "           1       1.00      0.92      0.96        83\n",
      "           2       0.94      1.00      0.97        17\n",
      "           3       0.59      0.91      0.71        11\n",
      "\n",
      "    accuracy                           0.98       346\n",
      "   macro avg       0.88      0.96      0.91       346\n",
      "weighted avg       0.98      0.98      0.98       346\n",
      "\n"
     ]
    }
   ],
   "source": [
    "# CatBoost Performance Metrics\n",
    "\n",
    "cat_cm = confusion_matrix(y_test, catboost_pred)\n",
    "\n",
    "disp = ConfusionMatrixDisplay(confusion_matrix=cat_cm, display_labels=label_mapping.keys())\n",
    "disp.plot(cmap=\"Reds\", values_format=\"d\")\n",
    "plt.title('CatBoost Confusion Matrix')\n",
    "plt.show()\n",
    "\n",
    "\n",
    "classification_catboost = classification_report(y_test, catboost_pred)\n",
    "print(\"Classification Report (CatBoost):\")\n",
    "print(classification_catboost)"
   ]
  },
  {
   "cell_type": "markdown",
   "id": "30e9f5d7-069b-4e4b-bfe1-52539bb6e42c",
   "metadata": {},
   "source": [
    "3. Compare the Overall Accuracy and the individual accuracy ratings between the two classifiers "
   ]
  },
  {
   "cell_type": "code",
   "execution_count": 9,
   "id": "0ea57cea-0ffc-4377-b58c-9e2e5d7eb2c9",
   "metadata": {},
   "outputs": [
    {
     "name": "stdout",
     "output_type": "stream",
     "text": [
      "Overall Accuracy (XGBoost) : 97.98%\n",
      "Overall Accuracy (CatBoost) : 97.69%\n"
     ]
    }
   ],
   "source": [
    "# Accuracy Scores\n",
    "\n",
    "accuracy_xgb = accuracy_score(y_test, xgboost_pred)\n",
    "accuracy_cat = accuracy_score(y_test, catboost_pred)\n",
    "print(f\"Overall Accuracy (XGBoost) : {accuracy_xgb * 100:.2f}%\")\n",
    "print(f\"Overall Accuracy (CatBoost) : {accuracy_cat * 100:.2f}%\")"
   ]
  }
 ],
 "metadata": {
  "kernelspec": {
   "display_name": "Python 3 (ipykernel)",
   "language": "python",
   "name": "python3"
  },
  "language_info": {
   "codemirror_mode": {
    "name": "ipython",
    "version": 3
   },
   "file_extension": ".py",
   "mimetype": "text/x-python",
   "name": "python",
   "nbconvert_exporter": "python",
   "pygments_lexer": "ipython3",
   "version": "3.11.1"
  }
 },
 "nbformat": 4,
 "nbformat_minor": 5
}
