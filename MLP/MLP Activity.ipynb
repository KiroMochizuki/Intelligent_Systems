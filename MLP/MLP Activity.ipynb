{
 "cells": [
  {
   "cell_type": "markdown",
   "id": "7dc42e4f-c27d-48f6-b891-473faed6d6ec",
   "metadata": {},
   "source": [
    "**Importing Libraries**"
   ]
  },
  {
   "cell_type": "code",
   "execution_count": null,
   "id": "34c0f285-b1c4-4ba4-8cff-16ebe7987aee",
   "metadata": {},
   "outputs": [],
   "source": [
    "import numpy as np\n",
    "import pandas as pd\n",
    "import tensorflow as tf\n",
    "import sklearn"
   ]
  },
  {
   "cell_type": "markdown",
   "id": "d98c16f2-b6f1-4211-8819-5c8a5f9bba5e",
   "metadata": {},
   "source": [
    "**Data Preprocessing**"
   ]
  },
  {
   "cell_type": "code",
   "execution_count": null,
   "id": "f5d6920d-4321-4e2d-aa8d-d9faedc6049c",
   "metadata": {},
   "outputs": [],
   "source": [
    "dataset = pd.read_csv('diabetes_prediction_dataset.csv')\n",
    "# dataset"
   ]
  },
  {
   "cell_type": "code",
   "execution_count": null,
   "id": "cc747c56-f23e-441f-8740-a8e9ab02b75e",
   "metadata": {},
   "outputs": [],
   "source": [
    "X = dataset.iloc[:, 0:-1].values\n",
    "Y = dataset.iloc[:, -1].values"
   ]
  },
  {
   "cell_type": "code",
   "execution_count": null,
   "id": "b1b5efde-5b65-4f96-a00c-f06b2a56a88e",
   "metadata": {},
   "outputs": [],
   "source": [
    "pd.DataFrame(X, columns = [\"gender\", \"age\", \"hypertension\",\"heart_disease\",\"smoking_history\",\"bmi\",\"HbA1c_level\",\"blood_glucose_level\"])"
   ]
  },
  {
   "cell_type": "code",
   "execution_count": null,
   "id": "c391b8cd-99ae-4e1f-a809-50d25a2676b2",
   "metadata": {},
   "outputs": [],
   "source": [
    "pd.DataFrame(Y, columns = [\"diabetes\"])"
   ]
  },
  {
   "cell_type": "code",
   "execution_count": null,
   "id": "dc5db24f-91d3-4731-89c2-a29cfcd990e5",
   "metadata": {},
   "outputs": [],
   "source": [
    "# X"
   ]
  },
  {
   "cell_type": "code",
   "execution_count": null,
   "id": "4676a3a2-557d-41f2-b82d-0ab693fabc7d",
   "metadata": {},
   "outputs": [],
   "source": [
    "# Y"
   ]
  },
  {
   "cell_type": "markdown",
   "id": "9232b7c3-5bf1-40b9-ba1a-057f3784fd04",
   "metadata": {},
   "source": [
    "**Data Encoding**"
   ]
  },
  {
   "cell_type": "code",
   "execution_count": null,
   "id": "89d75078-0d40-4c09-a4af-7b5c3d7e1f9f",
   "metadata": {},
   "outputs": [],
   "source": [
    "from sklearn.preprocessing import LabelEncoder\n",
    "le = LabelEncoder()\n",
    "X[:, 0] = le.fit_transform(X[:, 0])\n",
    "# print(X)"
   ]
  },
  {
   "cell_type": "code",
   "execution_count": null,
   "id": "6266d0e1-1196-4c30-841c-e73f22d9dfaf",
   "metadata": {},
   "outputs": [],
   "source": [
    "from sklearn.compose import ColumnTransformer\n",
    "from sklearn.preprocessing import OneHotEncoder\n",
    "ct = ColumnTransformer(transformers=[('encoder', OneHotEncoder(), [4])], remainder='passthrough')\n",
    "X = np.array(ct.fit_transform(X))"
   ]
  },
  {
   "cell_type": "code",
   "execution_count": null,
   "id": "ab68ea8d-0e10-44e9-8306-c54113cc910f",
   "metadata": {},
   "outputs": [],
   "source": [
    "# print(X)"
   ]
  },
  {
   "cell_type": "markdown",
   "id": "fc9f9927-0b9c-4bef-93d0-c3a8440427d2",
   "metadata": {},
   "source": [
    "**Splitting Data into Training & Test Set**"
   ]
  },
  {
   "cell_type": "code",
   "execution_count": null,
   "id": "a81b1262-5b17-4c91-a174-cc03a0cd0b2a",
   "metadata": {},
   "outputs": [],
   "source": [
    "from sklearn.model_selection import train_test_split\n",
    "X_train, X_test, y_train, y_test = train_test_split(X, Y, test_size = 0.2, random_state = 0)"
   ]
  },
  {
   "cell_type": "markdown",
   "id": "2a12a013-18d2-4af6-ae5e-550d8496f564",
   "metadata": {},
   "source": [
    "**Feature Scaling**"
   ]
  },
  {
   "cell_type": "code",
   "execution_count": null,
   "id": "b953ae32-d7a0-46ff-8c66-99ea8f1547da",
   "metadata": {},
   "outputs": [],
   "source": [
    "from sklearn.preprocessing import StandardScaler\n",
    "sc = StandardScaler()\n",
    "X_train = sc.fit_transform(X_train)\n",
    "X_test = sc.transform(X_test)"
   ]
  },
  {
   "cell_type": "markdown",
   "id": "63547fd4-5c41-4b21-a563-ceacadeb992f",
   "metadata": {},
   "source": [
    "**ANN Construction**"
   ]
  },
  {
   "cell_type": "code",
   "execution_count": null,
   "id": "87c8dbd4-cf2a-4a0e-b755-0772871e5ea9",
   "metadata": {},
   "outputs": [],
   "source": [
    "# ANN Initialization\n",
    "ann = tf.keras.models.Sequential()\n",
    "\n",
    "ann.add(tf.keras.layers.Dense(units=10, activation='elu'))       # Input Layer and 1st Hidden Layer (Activation Function: eLU)\n",
    "ann.add(tf.keras.layers.Dense(units=10, activation='selu'))       # Second Hidden layer (AF: SeLU)\n",
    "ann.add(tf.keras.layers.Dense(units=10, activation='gelu'))       # Second Hidden layer (AF: GeLU)\n",
    "ann.add(tf.keras.layers.Dense(units=1, activation='sigmoid'))    # Output layer (AF: Sigmoid)\n"
   ]
  },
  {
   "cell_type": "markdown",
   "id": "abebdbee-4c61-4d76-a953-c727fd2dc679",
   "metadata": {},
   "source": [
    "**ANN Training**"
   ]
  },
  {
   "cell_type": "code",
   "execution_count": null,
   "id": "20841a02-8496-4380-9fcd-15402b7195c4",
   "metadata": {},
   "outputs": [],
   "source": [
    "# ANN Compilation (Optimizer: ADAMax, Loss Function: Binary Cross-Entropy)\n",
    "ann.compile(optimizer = 'adamax', loss = 'binary_crossentropy', metrics = ['accuracy'])\n",
    "\n",
    "# ANN Training (Batch Size: 32, Epochs: 100)\n",
    "ann.fit(X_train, y_train, batch_size = 32, epochs = 100)"
   ]
  },
  {
   "cell_type": "markdown",
   "id": "50ffc166-b305-46a9-be5b-f42c786362de",
   "metadata": {},
   "source": [
    "**Model Evaluation & Prediction Making**"
   ]
  },
  {
   "cell_type": "code",
   "execution_count": null,
   "id": "a61b3e5b-f141-41f6-a453-5ab8e52c31c9",
   "metadata": {},
   "outputs": [],
   "source": [
    "y_pred = ann.predict(X_test)\n",
    "y_pred = (y_pred > 0.5)\n",
    "print(np.concatenate((y_pred.reshape(len(y_pred),1), y_test.reshape(len(y_test),1)),1))"
   ]
  },
  {
   "cell_type": "markdown",
   "id": "b0326220-d485-4ae3-9152-e637daaf847e",
   "metadata": {},
   "source": [
    "**Confusion Matrix**"
   ]
  },
  {
   "cell_type": "code",
   "execution_count": null,
   "id": "44799a45-9a68-490d-b9ab-e62d75dd3921",
   "metadata": {},
   "outputs": [],
   "source": [
    "from sklearn.metrics import confusion_matrix, accuracy_score\n",
    "import matplotlib.pyplot as plt\n",
    "conf_matrix = confusion_matrix(y_test, y_pred)\n",
    "tn, fp, fn, tp = confusion_matrix(y_test, y_pred).ravel()\n",
    "\n",
    "# Model Performance Metrics\n",
    "print(\"Model Accuracy:\", accuracy_score(y_test, y_pred))\n",
    "print(\"Model Specificity:\", tn / (tn+fp))\n",
    "print(\"Model Specificity:\", tp / (tp+fn))"
   ]
  },
  {
   "cell_type": "code",
   "execution_count": null,
   "id": "57c79a80-16a0-4d48-a1a4-8f862e95ba31",
   "metadata": {},
   "outputs": [],
   "source": [
    "fig, ax = plt.subplots(figsize=(7.5, 7.5))\n",
    "ax.matshow(conf_matrix, cmap=plt.cm.Blues, alpha=0.3)\n",
    "for i in range(conf_matrix.shape[0]):\n",
    "    for j in range(conf_matrix.shape[1]):\n",
    "        ax.text(x=j, y=i,s=conf_matrix[i, j], va='center', ha='center', size='xx-large')\n",
    " \n",
    "plt.xlabel('Predictions', fontsize=18)\n",
    "plt.ylabel('Actuals', fontsize=18)\n",
    "plt.title('Confusion Matrix', fontsize=18)\n",
    "plt.show()"
   ]
  }
 ],
 "metadata": {
  "kernelspec": {
   "display_name": "Python 3 (ipykernel)",
   "language": "python",
   "name": "python3"
  },
  "language_info": {
   "codemirror_mode": {
    "name": "ipython",
    "version": 3
   },
   "file_extension": ".py",
   "mimetype": "text/x-python",
   "name": "python",
   "nbconvert_exporter": "python",
   "pygments_lexer": "ipython3",
   "version": "3.11.1"
  }
 },
 "nbformat": 4,
 "nbformat_minor": 5
}
